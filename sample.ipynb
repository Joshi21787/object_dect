{
 "cells": [
  {
   "cell_type": "code",
   "execution_count": 114,
   "metadata": {},
   "outputs": [],
   "source": [
    "import cv2\n",
    "import numpy as np\n",
    "\n",
    "\n",
    "img = cv2.imread('original.jpg')\n",
    "img_D = img\n",
    "hsv = cv2.cvtColor(img, cv2.COLOR_BGR2HSV)"
   ]
  },
  {
   "cell_type": "code",
   "execution_count": 115,
   "metadata": {},
   "outputs": [
    {
     "name": "stdout",
     "output_type": "stream",
     "text": [
      "3\n"
     ]
    },
    {
     "data": {
      "text/plain": [
       "'\\nVS = cv2.resize(th3, (960, 540))                   \\ncv2.imshow(\"output\", VS)              \\ncv2.waitKey(0) \\ncv2.destroyAllWindows()\\n'"
      ]
     },
     "execution_count": 115,
     "metadata": {},
     "output_type": "execute_result"
    }
   ],
   "source": [
    "H = hsv[:,:,0]\n",
    "S = hsv[:,:,1]\n",
    "V = hsv[:,:,2]\n",
    "\n",
    "kernel1 = cv2.getStructuringElement(cv2.MORPH_CROSS,(17,17))\n",
    "kernel2 = cv2.getStructuringElement(cv2.MORPH_CROSS,(7,7))\n",
    "kernel3 = cv2.getStructuringElement(cv2.MORPH_RECT,(7,7))\n",
    "\n",
    "\n",
    "# processing on H for extraction of pink parts\n",
    "H = cv2.dilate(H,kernel1,iterations = 10)\n",
    "ret,th1 = cv2.threshold(H,127,255,cv2.THRESH_BINARY)\n",
    "th1 = cv2.erode(th1,kernel1,iterations = 10)\n",
    "th1  = cv2.morphologyEx(th1 , cv2.MORPH_OPEN, kernel1)\n",
    "\n",
    "_, contours, hierarchy = cv2.findContours(th1,cv2.RETR_TREE,cv2.CHAIN_APPROX_SIMPLE)\n",
    "#print(contours[0])\n",
    "\n",
    "(x,y),radius = cv2.minEnclosingCircle(contours[0])\n",
    "center = (int(x),int(y))\n",
    "radius = int(radius)\n",
    "img1 = cv2.circle(img,center,radius,(0,255,0),7)\n",
    "\n",
    "img1 = cv2.resize(img1, (960, 540))                   \n",
    "cv2.imshow(\"output\", img1)                           \n",
    "cv2.waitKey(0) \n",
    "cv2.destroyAllWindows()\n",
    "\n",
    "\n",
    "# processing on V for extraction of cross\n",
    "\n",
    "V = cv2.erode(V,kernel3,iterations = 5)\n",
    "th3 = cv2.morphologyEx(V, cv2.MORPH_OPEN, kernel3)\n",
    "ret,th3 = cv2.threshold(th3,127,255,cv2.THRESH_BINARY)\n",
    "th3 = cv2.dilate(th3,kernel2,iterations = 15)\n",
    "\n",
    "\n",
    "\n",
    "_, contours2, hierarchy = cv2.findContours(th3,cv2.RETR_TREE,cv2.CHAIN_APPROX_SIMPLE)\n",
    "\n",
    "x,y,w,h = cv2.boundingRect(contours2[0])\n",
    "img2 = cv2.rectangle(img,(x,y),(x+w,y+h),(0,0,255),7)\n",
    "\n",
    "img2 = cv2.resize(img2, (960, 540))                   \n",
    "cv2.imshow(\"output\", img2)                           \n",
    "cv2.waitKey(0) \n",
    "cv2.destroyAllWindows()\n"
   ]
  },
  {
   "cell_type": "code",
   "execution_count": null,
   "metadata": {},
   "outputs": [],
   "source": []
  }
 ],
 "metadata": {
  "kernelspec": {
   "display_name": "Python 3",
   "language": "python",
   "name": "python3"
  },
  "language_info": {
   "codemirror_mode": {
    "name": "ipython",
    "version": 3
   },
   "file_extension": ".py",
   "mimetype": "text/x-python",
   "name": "python",
   "nbconvert_exporter": "python",
   "pygments_lexer": "ipython3",
   "version": "3.5.2"
  }
 },
 "nbformat": 4,
 "nbformat_minor": 2
}
